{
 "cells": [
  {
   "cell_type": "markdown",
   "id": "b7efaaff",
   "metadata": {},
   "source": [
    "#DAPpyr Tutorial\n",
    "\n",
    "DAPpyr ((D)ata (A)ssimilation (P)oterjoy (py)thon (r)elease) is an data assimilation python implementation. This module serves to provide a basic environment to learn and test data assimilation methods, as well as a basis for developing further data assimilation methods in a toy environment.\n",
    "\n",
    "The following notebook will go through the basic structure of the package, as well as provide examples."
   ]
  },
  {
   "cell_type": "markdown",
   "id": "b2164bd4",
   "metadata": {},
   "source": [
    "## Introduction"
   ]
  },
  {
   "cell_type": "markdown",
   "id": "3c20a1ff",
   "metadata": {},
   "source": [
    "First, we must import our module, DAPpyr, as well as numpy and matplotlib for additional array manipulation and plotting later on. DAPpyr requires the following packages to function:\n",
    "\n",
    "* Numpy\n",
    "* Matplotlib\n",
    "* Scipy\n",
    "* Numba\n",
    "* Xarray\n",
    "* Numbalsoda\n",
    "\n",
    "If you are using a package manager like conda, these can all be installed using the default and conda-forge channels. "
   ]
  },
  {
   "cell_type": "code",
   "execution_count": 1,
   "id": "3b39d452",
   "metadata": {},
   "outputs": [],
   "source": [
    "import DAPpyr as dap\n",
    "import numpy as np\n",
    "import matplotlib.pyplot as plt"
   ]
  },
  {
   "cell_type": "markdown",
   "id": "04a2f82c",
   "metadata": {},
   "source": [
    "There are two main pieces of the `DAPpyr` module. The `Expt()` class and the `runDA` function. \n",
    "\n",
    "The `Expt` sets up the experiment you want to run. Through this class, you can configure things like the type of model you wish to run, how long to run it for, and what data assimilation method to use. \n",
    "\n",
    "The `Expt` class takes in a string for the name of the experiment, and an optional `params` dictionary containing any settings you with to change. Initializing an experiment without providing a `params` dictionary sets all configurable variables to their default values.\n",
    "\n",
    "Below, we will create an experiment call \"Basic_Expt\". We will run a 20 member ensemble 200 time steps using Lorenz 96 as our toy model."
   ]
  },
  {
   "cell_type": "code",
   "execution_count": 2,
   "id": "33333e0f",
   "metadata": {},
   "outputs": [],
   "source": [
    "expt  = dap.Expt('Basic_Expt', {'expt_flag': 0, \"Ne\": 20, 'model_flag':1, 'T': 200})"
   ]
  },
  {
   "cell_type": "markdown",
   "id": "b932052d",
   "metadata": {},
   "source": [
    "If you need a reminder of what settings an experiment has configured, simply print the experiment out."
   ]
  },
  {
   "cell_type": "code",
   "execution_count": 34,
   "id": "cac98cb9",
   "metadata": {},
   "outputs": [
    {
     "name": "stdout",
     "output_type": "stream",
     "text": [
      "\n",
      "            ------------------\n",
      "            Basic Information\n",
      "            ------------------\n",
      "            Experiment Name: Basic_EnKF\n",
      "            Ne: 20 # Number of Ensemble Members\n",
      "            T: 200 # Number of Time Periods\n",
      "            dt: 0.01 # Width of Timesteps\n",
      "\n",
      "            ------------------\n",
      "            Model Information\n",
      "            ------------------\n",
      "            model_flag: 1 # Model used in forward integration\n",
      "                  0: Lorenz 1963 (Nx = 3)\n",
      "                  1: Lorenz 1996 (Nx = 40)\n",
      "                  2: Lorenz 2005 (Nx  = 480)\n",
      "            Nx: 40 # The number of state variables\n",
      "            \n",
      "            params: {'s': 10, 'r': 28, 'b': 2.6666666666666665, 'F': 8, 'l05_F': 15, 'l05_Fe': 15, 'l05_K': 32, 'l05_I': 12, 'l05_b': 10.0, 'l05_c': 2.5} # Parameters to tune each forecast model\n",
      "            Above is a list of all the parameters stored for use in the forecast model\n",
      "                  Lorenz 1963: [s, r, b]\n",
      "                  Lorenz 1996: [F]\n",
      "                  Lorenz 2005: [l05_F, l05_Fe, l05_K, l05_I, l05_b, l05_c]\n",
      "\n",
      "            ------------------------\n",
      "            Observation Information\n",
      "            ------------------------\n",
      "            h_flag: 0 # Type of measurement operator to use\n",
      "                  0: Linear (x)\n",
      "                  1: Quadratic (x^2)\n",
      "                  2: Lognormal (log(abs(x)))\n",
      "            sig_y: 1 # Standard Deviation of observation error\n",
      "            tau: 3 # Number of model time steps between data assimilation cycles\n",
      "            obb: 0 # Observation buffer: number of variables to skip when generating obs\n",
      "            obf: 1 # Observation spatial frequency: spacing between variables\n",
      "            Ny: 40 # Number of observations to assimilate each cycle\n",
      "\n",
      "            ------------------------\n",
      "            DA Method Parameter Information\n",
      "            ------------------------\n",
      "            expt_flag: 0 # DA method for update step\n",
      "                  0: Ensemble Square Root Filter (EnSRF)\n",
      "                  1: Local Particle Filter (LPF)\n",
      "                  2: No update (xa = xf)\n",
      "                  ...\n",
      "            localize: True # Determines whether to apply localization\n",
      "                  0: Off\n",
      "                  1: On\n",
      "\n",
      "            -----Kalman Filter (EnSRF)-----\n",
      "            roi_kf: 0.005 # Kalman Filter Localization Radius\n",
      "            gamma: 0.03 # RTPS parameter\n",
      "\n",
      "            -----Local Particle Filter (LPF)-----\n",
      "            roi_pf: 0.005 # Particle Filter Localization Radius\n",
      "            mixing_gamma: 0.3 # Mixing coefficient for LPF\n",
      "            kddm_flag: 1 # Determine whether to apply additional kernal density estimator in LPF step\n",
      "                  0: Off\n",
      "                  1: On\n",
      "            maxiter: 1 # Maximum number of tempering iterations to run\n",
      "            min_res: 0.0 # Minimum residual\n",
      "            Nt_eff: 0.4 # Effective Ensemble Size\n",
      "            ------------------------\n",
      "            Miscellaneous Information\n",
      "            ------------------------\n",
      "            status: init # Notes the status of the given experiment\n",
      "                  init: The experiment has been initialized and spun-up, but not run using runDA\n",
      "                  init error: An error occured while spinning up the experiment\n",
      "                  run error: An error occured while running the experiment \n",
      "                  completed: runDA has been called and the experiment completed without errors\n",
      "            output_dir: ./ # Default output dir for saving experiment-related material\n",
      "            saveEns: 1 # Determines whether full posterior ensemble state is saved at each time step\n",
      "                  0: Off\n",
      "                  1: On (Default)\n",
      "            saveEnsMean: 1 # Determines whether ensemble mean is saved at each time step\n",
      "                  0: Off\n",
      "                  1: On (Default)\n",
      "            saveForecastEns: 0 #Determines whether full prior ensemble state is saved at each time step\n",
      "                  0: Off (Default)\n",
      "                  1: On\n",
      "            NumPool: 8 # Number of CPU cores to use when multiprocessing\n",
      "            \n",
      "            -----Singular Vector Configuration-----\n",
      "            doSV: 0 # Flag to switch on signular value (SV) calculation\n",
      "            stepSV: 1 # Number of time steps between SV calculations\n",
      "            forecastSV: 4 # SV optimization interval (in increments of time step)\n",
      "            outputSV: None # Output Directory for SV output\n",
      "            storeCovar: 0 # Flag to determine whether to store the Analysis and Forecast States to estimate the covariance matrices\n",
      "                  0: Off (Default)\n",
      "                  1: On\n",
      "            \n"
     ]
    }
   ],
   "source": [
    "print(expt)"
   ]
  },
  {
   "cell_type": "markdown",
   "id": "94a82dbb",
   "metadata": {},
   "source": [
    "To get the results of a single parameter in the experiment use the `Expt.getParam()` method to retrieve it. "
   ]
  },
  {
   "cell_type": "code",
   "execution_count": 35,
   "id": "5e67e3b8",
   "metadata": {},
   "outputs": [
    {
     "name": "stdout",
     "output_type": "stream",
     "text": [
      "Getting the model_flag used\n"
     ]
    },
    {
     "data": {
      "text/plain": [
       "1"
      ]
     },
     "execution_count": 35,
     "metadata": {},
     "output_type": "execute_result"
    }
   ],
   "source": [
    "print('Getting the model_flag used')\n",
    "expt.getParam('model_flag')"
   ]
  },
  {
   "cell_type": "markdown",
   "id": "95609ac3",
   "metadata": {},
   "source": [
    "To change a parameter in the experimental setup, use the `Expt.modExpt()` method. \n",
    "\n",
    "NOTE: Modifying certain parameters in your experiment (such as the number of ensemble members (Ne) or number of model time steps (T)) will force the experiment to rerun spin-up, meaning that you will have new *model truth values, observations, and ensemble states. Certain few parameters (such as the DA method to use (expt_flag)) will not change the experimental initial states."
   ]
  },
  {
   "cell_type": "code",
   "execution_count": 3,
   "id": "9a92b20f",
   "metadata": {},
   "outputs": [
    {
     "name": "stdout",
     "output_type": "stream",
     "text": [
      "This is the first observation before experiment modification: 1.9551535405612115\n",
      "Note the observation is the same after modification: 1.9551535405612115\n",
      "Note the observation is different after modification: 2.5752106983547884\n"
     ]
    }
   ],
   "source": [
    "#Lets change the DA method from EnSRF to LPF\n",
    "print('This is the first observation before experiment modification: {}'.format(expt.getParam('Y')[0, 0, 0]))\n",
    "#Now let's modify the experiment\n",
    "expt.modExpt({'expt_flag': 1})\n",
    "print('Note the observation is the same after modification: {}'.format(expt.getParam('Y')[0, 0, 0]))\n",
    "#Now let's modify somethinf that will change the state, such as the observation error\n",
    "expt.modExpt({'var_y': 1.5})\n",
    "print('Note the observation is different after modification: {}'.format(expt.getParam('Y')[0, 0, 0]))"
   ]
  },
  {
   "cell_type": "markdown",
   "id": "0e2ecba1",
   "metadata": {},
   "source": [
    "Once you are happy with your experiment, it is time to run the actual data assimilation cycles. To do this, use the `DAPpyr.runDA()` function. It simply takes in an `Expt` instance, and runs through all specifications of the experiment."
   ]
  },
  {
   "cell_type": "code",
   "execution_count": 4,
   "id": "e76e5442",
   "metadata": {},
   "outputs": [
    {
     "data": {
      "text/plain": [
       "'completed'"
      ]
     },
     "execution_count": 4,
     "metadata": {},
     "output_type": "execute_result"
    }
   ],
   "source": [
    "# Lets run our basic experiment, after running, it should print a \"completed\" message\n",
    "dap.runDA(expt)"
   ]
  },
  {
   "cell_type": "markdown",
   "id": "4451c590",
   "metadata": {},
   "source": [
    "From here, there are a number of outputs you can reference.\n",
    "\n",
    "* `Expt.rmse`: The posterior RMSE over the experiment \n",
    "* `Expt.prior_rmse`: The prior RMSE over the experiment \n",
    "* `Expt.spread`: A (T x 2) matrix where [:, 0] are the prior ensemble spreads, and [:, 1] are the posterior ensemble spreads\n",
    "* `Expt.x_ens`: If \"saveEns\" is set to 1 in configuration, the full posterior ensemble states are stored \n",
    "* `Expt.x_ensmean`: If \"saveEnsMean\" is set to 1 in configuration, the full posterior ensemble means are stored\n",
    "* `Expt.x_fore_ens`: If \"saveForecastEns\" is set to 1 in configuration, the full prior ensemble states are stored"
   ]
  },
  {
   "cell_type": "code",
   "execution_count": 5,
   "id": "92cc2d57",
   "metadata": {},
   "outputs": [
    {
     "data": {
      "text/plain": [
       "Text(0, 0.5, 'Posterior RMSE')"
      ]
     },
     "execution_count": 5,
     "metadata": {},
     "output_type": "execute_result"
    },
    {
     "data": {
      "image/png": "[encoded data removed]",
      "text/plain": [
       "<Figure size 640x480 with 1 Axes>"
      ]
     },
     "metadata": {},
     "output_type": "display_data"
    }
   ],
   "source": [
    "plt.plot(expt.rmse)\n",
    "plt.title('Posterior RMSE for Experiment {}'.format(expt.exptname))\n",
    "plt.xlabel('T')\n",
    "plt.ylabel('Posterior RMSE')"
   ]
  }
 ],
 "metadata": {
  "kernelspec": {
   "display_name": "DAPpyr",
   "language": "python",
   "name": "python3"
  },
  "language_info": {
   "codemirror_mode": {
    "name": "ipython",
    "version": 3
   },
   "file_extension": ".py",
   "mimetype": "text/x-python",
   "name": "python",
   "nbconvert_exporter": "python",
   "pygments_lexer": "ipython3",
   "version": "3.13.2"
  }
 },
 "nbformat": 4,
 "nbformat_minor": 5
}
