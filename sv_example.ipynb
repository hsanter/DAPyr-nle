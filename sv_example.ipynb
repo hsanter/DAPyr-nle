{
 "cells": [
  {
   "cell_type": "code",
   "execution_count": 1,
   "metadata": {},
   "outputs": [],
   "source": [
    "import numpy as np\n",
    "import pandas as pd\n",
    "from scipy import stats as stats\n",
    "import scipy.integrate as sint"
   ]
  },
  {
   "cell_type": "code",
   "execution_count": 24,
   "metadata": {},
   "outputs": [
    {
     "data": {
      "text/plain": [
       "(array([4, 5, 0, 1, 2, 3]),\n",
       " array([5, 0, 1, 2, 3, 4]),\n",
       " array([0, 1, 2, 3, 4, 5]),\n",
       " array([1, 2, 3, 4, 5, 0]))"
      ]
     },
     "execution_count": 24,
     "metadata": {},
     "output_type": "execute_result"
    }
   ],
   "source": [
    "x = np.arange(6)[:]\n",
    "x0 = np.concatenate([[x[-2]], [x[-1]], x[:], [x[0]]])\n",
    "x0\n",
    "y1 = x0[0:-3]\n",
    "y2 = x0[1:-2]\n",
    "y3 = x0[2:-1]\n",
    "y4 = x0[3:]\n",
    "y1, y2, y3, y4\n"
   ]
  },
  {
   "cell_type": "code",
   "execution_count": null,
   "metadata": {},
   "outputs": [],
   "source": [
    "def create_periodic(sigma, m, dx):\n",
    "      if m % 2 == 0: #Even\n",
    "            cx = m/2\n",
    "            x = np.concatenate([np.arange(0, cx), np.arange(cx, 0, -1), np.arange(0, cx), np.arange(cx, 0, -1)])\n",
    "      else: #Odd\n",
    "            cx = np.floor(m/2)\n",
    "            x = np.concatenate([np.arange(0, cx+1), np.arange(cx, 0, -1), np.arange(0, cx+1), np.arange(cx, 0, -1)])\n",
    "      wlc = np.exp(-((dx*(x))**2)/(2*sigma*2))\n",
    "      B = np.zeros((m, m))\n",
    "      for i in range(m):\n",
    "            B[i, :] = wlc[m - i:2*m - i]\n",
    "      B = np.where(B < 0, 0, B)\n",
    "      return B\n",
    "\n",
    "def M_nl96(x, dt, T, kwargs):\n",
    "      F = kwargs['F']\n",
    "      Nx = x.shape[0]\n",
    "      def dxt(x0, F):\n",
    "            x0 = np.concatenatea([x0[-2, :], x0[-1, :], x0[:, 0], x0[0, :]])\n",
    "            y1 = x0[0:-3]\n",
    "            y2 = x0[1:-2]\n",
    "            y3 = x0[2:-1]\n",
    "            y4 = x0[3:]\n",
    "            x1 = -y2*(y1-y4) - y3 + F\n",
    "            return x1\n",
    "      x = x[:, 0]\n",
    "      for t in range(T):\n",
    "            k1 = dt*dxt(x, F)\n",
    "            k2 = dt*dxt(x + k1/2, F)\n",
    "            k3 = dt*dxt(x + k2/2, F)\n",
    "            k4 = dt*dxt(x + k3, F)\n",
    "            x = x + k1/6 + k2/3 + k3/3 + k4/6\n",
    "      return x[:, np.newaxis]\n",
    "\n",
    "\n",
    "def M_l96(x, dt, T, kwargs):\n",
    "      F = kwargs['F']\n",
    "      Nx = x.shape[0]\n",
    "      x2 = x\n",
    "      for t in range(T):\n",
    "            dxs = np.zeros((Nx,))\n",
    "            for i in range(Nx):\n",
    "                  if i == Nx-1:\n",
    "                        dxs[i] = (x[0] - x[i-2])*x[i-1] - x[i] + F\n",
    "                  else:      \n",
    "                        dxs[i] = (x[i+1] - x[i-2])*x[i-1] - x[i] + F\n",
    "            x = x2 + dxs*dt\n",
    "            x2 = x\n",
    "      return x   \n",
    "\n",
    "def M_lin(x, M, T = 1):\n",
    "      x_ret = x\n",
    "      for t in range(T):\n",
    "            x_ret = np.matmul(M, x_ret)\n",
    "      return x_ret"
   ]
  },
  {
   "cell_type": "code",
   "execution_count": 3,
   "metadata": {},
   "outputs": [
    {
     "data": {
      "text/plain": [
       "array([[ 1. ,  0.5, -0.5,  0. ,  0. , -0.5,  0.5],\n",
       "       [ 0.5,  1. ,  0.5, -0.5,  0. ,  0. , -0.5],\n",
       "       [-0.5,  0.5,  1. ,  0.5, -0.5,  0. ,  0. ],\n",
       "       [ 0. , -0.5,  0.5,  1. ,  0.5, -0.5,  0. ],\n",
       "       [ 0. ,  0. , -0.5,  0.5,  1. ,  0.5, -0.5],\n",
       "       [-0.5,  0. ,  0. , -0.5,  0.5,  1. ,  0.5],\n",
       "       [ 0.5, -0.5,  0. ,  0. , -0.5,  0.5,  1. ]])"
      ]
     },
     "execution_count": 3,
     "metadata": {},
     "output_type": "execute_result"
    }
   ],
   "source": [
    "n = 7\n",
    "M = np.zeros((n, n))\n",
    "M[np.arange(0, n), np.arange(0, n)] = 1\n",
    "M[np.arange(1, n), np.arange(0, n-1)] = 0.5\n",
    "M[np.arange(0, n-1), np.arange(1, n)] = 0.5\n",
    "M[np.arange(2, n), np.arange(0, n-2)] = -0.5\n",
    "M[np.arange(0, n-2), np.arange(2, n)] = -0.5\n",
    "M[n-1, 0] = 0.5\n",
    "M[0, n-1] = 0.5\n",
    "M[np.arange(n-2, n), np.arange(0, 2)] = -0.5\n",
    "M[np.arange(0, 2), np.arange(n-2, n)] = -0.5\n",
    "vals, vec = np.linalg.eig(M)\n",
    "M"
   ]
  },
  {
   "cell_type": "code",
   "execution_count": 4,
   "metadata": {},
   "outputs": [],
   "source": [
    "np.random.seed(1)\n",
    "x = np.random.randn(n, 1)"
   ]
  },
  {
   "cell_type": "code",
   "execution_count": 5,
   "metadata": {},
   "outputs": [],
   "source": [
    "Pa = np.eye(n)\n",
    "Pa[np.arange(1, n), np.arange(0, n-1)] = 0.5\n",
    "Pa[np.arange(0, n-1), np.arange(1, n)] = 0.5\n",
    "Xma = np.zeros(n)"
   ]
  },
  {
   "cell_type": "code",
   "execution_count": 6,
   "metadata": {},
   "outputs": [],
   "source": [
    "rho_0 = stats.multivariate_normal(Xma, Pa)"
   ]
  },
  {
   "cell_type": "markdown",
   "metadata": {},
   "source": [
    "Try to calculate the forecast error covariance using theory"
   ]
  },
  {
   "cell_type": "code",
   "execution_count": 7,
   "metadata": {},
   "outputs": [],
   "source": [
    "Pf_theory = np.matmul(M, np.matmul(Pa, M.T))"
   ]
  },
  {
   "cell_type": "markdown",
   "metadata": {},
   "source": [
    "Try using a MCMC method"
   ]
  },
  {
   "cell_type": "code",
   "execution_count": 8,
   "metadata": {},
   "outputs": [],
   "source": [
    "times = 1000\n",
    "final_Pa_est = np.zeros((n,n))\n",
    "final_Pf_est = np.zeros((n,n))\n",
    "\n",
    "for t in range(times):\n",
    "      Ne = 100000\n",
    "      Xa = rho_0.rvs(Ne).T\n",
    "      Xf = np.matmul(M, Xa)\n",
    "      xma = np.mean(Xa, axis = 1)\n",
    "      xmf = np.mean(Xf, axis = 1)\n",
    "      Xa_p = (1/np.sqrt(Ne-1))*(Xa - xma[:, np.newaxis])\n",
    "      Xf_p = (1/np.sqrt(Ne-1))*(Xf - xmf[:, np.newaxis])\n",
    "      Pa_est = np.matmul(Xa_p, Xa_p.T)\n",
    "      Pf_est = np.matmul(Xf_p, Xf_p.T)\n",
    "      final_Pa_est += Pa_est\n",
    "      final_Pf_est += Pf_est\n",
    "\n",
    "final_Pa_est = final_Pa_est*(1/times)\n",
    "final_Pf_est = final_Pf_est*(1/times)"
   ]
  },
  {
   "cell_type": "code",
   "execution_count": 9,
   "metadata": {},
   "outputs": [
    {
     "data": {
      "text/plain": [
       "array([[-1.09438742e-04, -1.52393689e-04, -3.00741775e-05,\n",
       "        -9.81262356e-05, -4.28822746e-05,  1.91041066e-04,\n",
       "         1.98239817e-04],\n",
       "       [-1.52393689e-04, -6.29416777e-05,  2.74012959e-05,\n",
       "        -1.07961586e-04,  2.78469637e-05,  2.65537133e-04,\n",
       "         2.48151600e-04],\n",
       "       [-3.00741775e-05,  2.74012959e-05,  5.33516650e-05,\n",
       "         5.73133818e-06,  2.16241067e-05,  1.93181163e-04,\n",
       "         2.39374306e-04],\n",
       "       [-9.81262356e-05, -1.07961586e-04,  5.73133818e-06,\n",
       "         1.75995645e-05, -1.30348053e-04,  7.08215910e-05,\n",
       "         1.19071803e-04],\n",
       "       [-4.28822746e-05,  2.78469637e-05,  2.16241067e-05,\n",
       "        -1.30348053e-04, -1.62006451e-04, -2.96599393e-05,\n",
       "         7.27174296e-06],\n",
       "       [ 1.91041066e-04,  2.65537133e-04,  1.93181163e-04,\n",
       "         7.08215910e-05, -2.96599393e-05, -1.35746652e-04,\n",
       "        -8.04534422e-05],\n",
       "       [ 1.98239817e-04,  2.48151600e-04,  2.39374306e-04,\n",
       "         1.19071803e-04,  7.27174296e-06, -8.04534422e-05,\n",
       "        -2.05063854e-04]])"
      ]
     },
     "execution_count": 9,
     "metadata": {},
     "output_type": "execute_result"
    }
   ],
   "source": [
    "final_Pa_est - Pa"
   ]
  },
  {
   "cell_type": "code",
   "execution_count": 10,
   "metadata": {},
   "outputs": [
    {
     "data": {
      "text/plain": [
       "(array([[ 1. ,  0.5, -0. , -0. , -0. ,  0. ,  0. ],\n",
       "        [ 0.5,  1. ,  0.5, -0. ,  0. ,  0. ,  0. ],\n",
       "        [-0. ,  0.5,  1. ,  0.5,  0. ,  0. ,  0. ],\n",
       "        [-0. , -0. ,  0.5,  1. ,  0.5,  0. ,  0. ],\n",
       "        [-0. ,  0. ,  0. ,  0.5,  1. ,  0.5,  0. ],\n",
       "        [ 0. ,  0. ,  0. ,  0. ,  0.5,  1. ,  0.5],\n",
       "        [ 0. ,  0. ,  0. ,  0. ,  0. ,  0.5,  1. ]]),\n",
       " array([[1. , 0.5, 0. , 0. , 0. , 0. , 0. ],\n",
       "        [0.5, 1. , 0.5, 0. , 0. , 0. , 0. ],\n",
       "        [0. , 0.5, 1. , 0.5, 0. , 0. , 0. ],\n",
       "        [0. , 0. , 0.5, 1. , 0.5, 0. , 0. ],\n",
       "        [0. , 0. , 0. , 0.5, 1. , 0.5, 0. ],\n",
       "        [0. , 0. , 0. , 0. , 0.5, 1. , 0.5],\n",
       "        [0. , 0. , 0. , 0. , 0. , 0.5, 1. ]]))"
      ]
     },
     "execution_count": 10,
     "metadata": {},
     "output_type": "execute_result"
    }
   ],
   "source": [
    "np.round(final_Pf_est, 2) , Pf_theory\n",
    "np.round(final_Pa_est, 2), Pa"
   ]
  },
  {
   "cell_type": "markdown",
   "metadata": {},
   "source": [
    "Now let's try the SV methodology with varying ensemble size"
   ]
  },
  {
   "cell_type": "code",
   "execution_count": 57,
   "metadata": {},
   "outputs": [],
   "source": [
    "D = np.eye(n)\n",
    "sv_Ne = 1000\n",
    "Xa = rho_0.rvs(sv_Ne).T\n",
    "Xf = np.matmul(M, Xa)\n",
    "xma = np.mean(Xa, axis = 1)\n",
    "xmf = np.mean(Xf, axis = 1)\n",
    "Xa_p = (1/np.sqrt(sv_Ne-1))*(Xa - xma[:, np.newaxis])\n",
    "Xf_p = (1/np.sqrt(sv_Ne-1))*(Xf - xmf[:, np.newaxis])\n",
    "Pa_est = np.matmul(Xa_p, Xa_p.T)\n",
    "Pf_est = np.matmul(Xf_p, Xf_p.T)\n",
    "vals, vecs = np.linalg.eigh(np.matmul(Xf.T, Xf))\n",
    "indx = np.argsort(vals)[::-1]\n",
    "vals = vals[indx]\n",
    "vecs = vecs[:, indx]\n",
    "\n",
    "v = np.matmul(Xf, vecs)\n",
    "u = np.matmul(Xa, vecs)\n",
    "\n",
    "Pa_sv = np.matmul(u, u.T)\n",
    "Pf_sv = np.matmul(v, v.T)\n",
    "#Pa_sv = Pa_sv/np.max(Pa_sv)\n",
    "#Pf_sv = Pf_sv/np.max(Pf_sv)"
   ]
  },
  {
   "cell_type": "code",
   "execution_count": 51,
   "metadata": {},
   "outputs": [],
   "source": [
    "import matplotlib.pyplot as plt"
   ]
  },
  {
   "cell_type": "code",
   "execution_count": 58,
   "metadata": {},
   "outputs": [
    {
     "data": {
      "text/plain": [
       "[<matplotlib.lines.Line2D at 0x7b5f06ae6b00>]"
      ]
     },
     "execution_count": 58,
     "metadata": {},
     "output_type": "execute_result"
    },
    {
     "data": {
      "image/png": "[encoded data removed]",
      "text/plain": [
       "<Figure size 640x480 with 1 Axes>"
      ]
     },
     "metadata": {},
     "output_type": "display_data"
    }
   ],
   "source": [
    "plt.plot(np.sum(v*v, axis = 0)/np.sum(u*u, axis= 0))"
   ]
  }
 ],
 "metadata": {
  "kernelspec": {
   "display_name": "weather",
   "language": "python",
   "name": "python3"
  },
  "language_info": {
   "codemirror_mode": {
    "name": "ipython",
    "version": 3
   },
   "file_extension": ".py",
   "mimetype": "text/x-python",
   "name": "python",
   "nbconvert_exporter": "python",
   "pygments_lexer": "ipython3",
   "version": "3.10.8"
  }
 },
 "nbformat": 4,
 "nbformat_minor": 2
}
